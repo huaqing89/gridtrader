{
 "cells": [
  {
   "cell_type": "code",
   "execution_count": 1,
   "metadata": {},
   "outputs": [],
   "source": [
    "timeframe_dict = {  \n",
    " 0: 'MicroSeconds',\n",
    " 1: 'Seconds',\n",
    " 2: 'Minutes',\n",
    " 3: 'Days',\n",
    " 4: 'Weeks',\n",
    " 5: 'Months',\n",
    " 6: 'Years',\n",
    " 7: 'NoTimeFrame'}"
   ]
  },
  {
   "cell_type": "code",
   "execution_count": 2,
   "metadata": {},
   "outputs": [],
   "source": [
    "# ALL SETTINGS HERE\n",
    "filename = './binance-segment.csv' # csv file filename\n",
    "\"\"\"\n",
    "Note: The order and the name of each column must be exactly the same like this: \\\n",
    "        ['time', 'open', 'high', 'low', 'close', 'volume']\n",
    "\"\"\"\n",
    "timeframe = timeframe_dict[2] # select your data's timeframe\n",
    "all_cash = 100000.00"
   ]
  },
  {
   "cell_type": "code",
   "execution_count": 3,
   "metadata": {},
   "outputs": [
    {
     "name": "stdout",
     "output_type": "stream",
     "text": [
      "Starting Portfolio Value: 100000.00\n",
      "Final Portfolio Value: 116524.61\n"
     ]
    }
   ],
   "source": [
    "from gridrun import *\n",
    "gridrun(filename, timeframe, all_cash)"
   ]
  },
  {
   "cell_type": "code",
   "execution_count": null,
   "metadata": {},
   "outputs": [],
   "source": []
  }
 ],
 "metadata": {
  "kernelspec": {
   "display_name": "Python 3",
   "language": "python",
   "name": "python3"
  },
  "language_info": {
   "codemirror_mode": {
    "name": "ipython",
    "version": 3
   },
   "file_extension": ".py",
   "mimetype": "text/x-python",
   "name": "python",
   "nbconvert_exporter": "python",
   "pygments_lexer": "ipython3",
   "version": "3.6.8"
  }
 },
 "nbformat": 4,
 "nbformat_minor": 2
}
